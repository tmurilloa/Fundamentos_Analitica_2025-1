{
 "cells": [
  {
   "cell_type": "code",
   "execution_count": 13,
   "id": "3e53a6dc",
   "metadata": {},
   "outputs": [],
   "source": [
    "def load_data():\n",
    "\n",
    "    import pandas as pd\n",
    "\n",
    "    dataframe = pd.read_csv(\n",
    "        \"../files/input/sentences.csv.zip\",\n",
    "        index_col=False,\n",
    "        compression=\"zip\",\n",
    "    )\n",
    "\n",
    "    data = dataframe.phrase\n",
    "    target = dataframe.target\n",
    "\n",
    "    return data, target"
   ]
  },
  {
   "cell_type": "code",
   "execution_count": 14,
   "id": "3eef2e6e",
   "metadata": {},
   "outputs": [],
   "source": [
    "def make_train_test_split(x, y):\n",
    "\n",
    "    from sklearn.model_selection import train_test_split\n",
    "\n",
    "    (x_train, x_test, y_train, y_test) = train_test_split(\n",
    "        x,\n",
    "        y,\n",
    "        test_size=0.25,\n",
    "        random_state=123456,\n",
    "    )\n",
    "    return x_train, x_test, y_train, y_test\n",
    "    "
   ]
  },
  {
   "cell_type": "code",
   "execution_count": 15,
   "id": "03e2b380",
   "metadata": {},
   "outputs": [],
   "source": [
    "def make_pipeline(estimator):\n",
    "\n",
    "    from sklearn.feature_extraction.text import CountVectorizer, TfidfTransformer\n",
    "    from sklearn.pipeline import Pipeline\n",
    "\n",
    "    vectorizer = CountVectorizer(\n",
    "        lowercase=True,\n",
    "        analyzer=\"word\",\n",
    "        token_pattern=r\"\\b[a-zA-Z]\\w+\\b\",\n",
    "        stop_words=\"english\",\n",
    "    )\n",
    "\n",
    "    transformer = TfidfTransformer()\n",
    "\n",
    "    pipeline = Pipeline(\n",
    "        steps=[\n",
    "            (\"vectorizer\", vectorizer),\n",
    "            (\"transformer\", transformer),\n",
    "            (\"estimator\", estimator),\n",
    "        ],\n",
    "        verbose=False,\n",
    "    )\n",
    "\n",
    "    return pipeline"
   ]
  },
  {
   "cell_type": "code",
   "execution_count": 16,
   "id": "dacffa2f",
   "metadata": {},
   "outputs": [],
   "source": [
    "def save_estimator(estimator):\n",
    "\n",
    "    import pickle\n",
    "\n",
    "    with open(\"estimator.pickle\", \"wb\") as file:\n",
    "        pickle.dump(estimator, file)"
   ]
  },
  {
   "cell_type": "code",
   "execution_count": 17,
   "id": "856ca1dc",
   "metadata": {},
   "outputs": [],
   "source": [
    "def train_logistic_regression():\n",
    "\n",
    "    from sklearn.linear_model import LogisticRegression\n",
    "\n",
    "    data, target = load_data()\n",
    "    x_train, x_test, y_train, y_test = make_train_test_split(\n",
    "        x=data,\n",
    "        y=target,\n",
    "    )\n",
    "    estimator = make_pipeline(estimator=LogisticRegression(max_iter=1000))\n",
    "    estimator.fit(x_train, y_train)\n",
    "    save_estimator(estimator)\n",
    "\n",
    "\n",
    "train_logistic_regression()"
   ]
  },
  {
   "cell_type": "code",
   "execution_count": 18,
   "id": "f755864b",
   "metadata": {},
   "outputs": [
    {
     "data": {
      "text/plain": [
       "array(['neutral', 'positive', 'positive', ..., 'neutral', 'negative',\n",
       "       'negative'], shape=(2264,), dtype=object)"
      ]
     },
     "execution_count": 18,
     "metadata": {},
     "output_type": "execute_result"
    }
   ],
   "source": [
    "def use_estimator():\n",
    "\n",
    "    import pickle\n",
    "\n",
    "    import pandas as pd\n",
    "\n",
    "    dataframe = pd.read_csv(\n",
    "        \"../files/input/sentences.csv.zip\",\n",
    "        index_col=False,\n",
    "        compression=\"zip\",\n",
    "    )\n",
    "\n",
    "    data = dataframe.phrase\n",
    "\n",
    "    with open(\"estimator.pickle\", \"rb\") as file:\n",
    "        estimator = pickle.load(file)\n",
    "\n",
    "    prediction = estimator.predict(data)\n",
    "\n",
    "    return prediction\n",
    "\n",
    "\n",
    "use_estimator()"
   ]
  }
 ],
 "metadata": {
  "kernelspec": {
   "display_name": ".venv",
   "language": "python",
   "name": "python3"
  },
  "language_info": {
   "codemirror_mode": {
    "name": "ipython",
    "version": 3
   },
   "file_extension": ".py",
   "mimetype": "text/x-python",
   "name": "python",
   "nbconvert_exporter": "python",
   "pygments_lexer": "ipython3",
   "version": "3.11.9"
  }
 },
 "nbformat": 4,
 "nbformat_minor": 5
}
